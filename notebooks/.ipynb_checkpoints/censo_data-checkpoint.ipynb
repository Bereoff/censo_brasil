{
 "cells": [
  {
   "cell_type": "code",
   "execution_count": 1,
   "metadata": {},
   "outputs": [],
   "source": [
    "import pandas as pd"
   ]
  },
  {
   "cell_type": "code",
   "execution_count": 2,
   "metadata": {},
   "outputs": [],
   "source": [
    "df = pd.read_csv('/home/bereoff/bruno/rocketship/censo_brasil/idSUS2010_cidades.xlsx - Plan1.csv')"
   ]
  },
  {
   "cell_type": "code",
   "execution_count": 3,
   "metadata": {},
   "outputs": [
    {
     "data": {
      "text/html": [
       "<div>\n",
       "<style scoped>\n",
       "    .dataframe tbody tr th:only-of-type {\n",
       "        vertical-align: middle;\n",
       "    }\n",
       "\n",
       "    .dataframe tbody tr th {\n",
       "        vertical-align: top;\n",
       "    }\n",
       "\n",
       "    .dataframe thead th {\n",
       "        text-align: right;\n",
       "    }\n",
       "</style>\n",
       "<table border=\"1\" class=\"dataframe\">\n",
       "  <thead>\n",
       "    <tr style=\"text-align: right;\">\n",
       "      <th></th>\n",
       "      <th>Município</th>\n",
       "      <th>codmun</th>\n",
       "      <th>UF</th>\n",
       "      <th>idsus_fx</th>\n",
       "      <th>Grupo Homogêneo</th>\n",
       "    </tr>\n",
       "  </thead>\n",
       "  <tbody>\n",
       "    <tr>\n",
       "      <th>0</th>\n",
       "      <td>Alta Floresta D'Oeste</td>\n",
       "      <td>110001</td>\n",
       "      <td>RO</td>\n",
       "      <td>4 a 4,9</td>\n",
       "      <td>GH3</td>\n",
       "    </tr>\n",
       "    <tr>\n",
       "      <th>1</th>\n",
       "      <td>Ariquemes</td>\n",
       "      <td>110002</td>\n",
       "      <td>RO</td>\n",
       "      <td>4 a 4,9</td>\n",
       "      <td>GH3</td>\n",
       "    </tr>\n",
       "    <tr>\n",
       "      <th>2</th>\n",
       "      <td>Cabixi</td>\n",
       "      <td>110003</td>\n",
       "      <td>RO</td>\n",
       "      <td>4 a 4,9</td>\n",
       "      <td>GH5</td>\n",
       "    </tr>\n",
       "    <tr>\n",
       "      <th>3</th>\n",
       "      <td>Cacoal</td>\n",
       "      <td>110004</td>\n",
       "      <td>RO</td>\n",
       "      <td>4 a 4,9</td>\n",
       "      <td>GH3</td>\n",
       "    </tr>\n",
       "    <tr>\n",
       "      <th>4</th>\n",
       "      <td>Cerejeiras</td>\n",
       "      <td>110005</td>\n",
       "      <td>RO</td>\n",
       "      <td>4 a 4,9</td>\n",
       "      <td>GH5</td>\n",
       "    </tr>\n",
       "  </tbody>\n",
       "</table>\n",
       "</div>"
      ],
      "text/plain": [
       "               Município  codmun  UF idsus_fx Grupo Homogêneo\n",
       "0  Alta Floresta D'Oeste  110001  RO  4 a 4,9             GH3\n",
       "1              Ariquemes  110002  RO  4 a 4,9             GH3\n",
       "2                 Cabixi  110003  RO  4 a 4,9             GH5\n",
       "3                 Cacoal  110004  RO  4 a 4,9             GH3\n",
       "4             Cerejeiras  110005  RO  4 a 4,9             GH5"
      ]
     },
     "execution_count": 3,
     "metadata": {},
     "output_type": "execute_result"
    }
   ],
   "source": [
    "df.head()"
   ]
  },
  {
   "cell_type": "code",
   "execution_count": null,
   "metadata": {},
   "outputs": [],
   "source": []
  }
 ],
 "metadata": {
  "kernelspec": {
   "display_name": "rocketship",
   "language": "python",
   "name": "rocketship"
  },
  "language_info": {
   "codemirror_mode": {
    "name": "ipython",
    "version": 3
   },
   "file_extension": ".py",
   "mimetype": "text/x-python",
   "name": "python",
   "nbconvert_exporter": "python",
   "pygments_lexer": "ipython3",
   "version": "3.8.6"
  }
 },
 "nbformat": 4,
 "nbformat_minor": 4
}
