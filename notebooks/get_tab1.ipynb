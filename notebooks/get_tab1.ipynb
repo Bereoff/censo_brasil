{
 "cells": [
  {
   "cell_type": "code",
   "execution_count": 1,
   "metadata": {},
   "outputs": [],
   "source": [
    "import os\n",
    "import fnmatch\n",
    "import re"
   ]
  },
  {
   "cell_type": "code",
   "execution_count": 2,
   "metadata": {},
   "outputs": [],
   "source": [
    "import pandas as pd\n",
    "import numpy as np"
   ]
  },
  {
   "cell_type": "code",
   "execution_count": 3,
   "metadata": {},
   "outputs": [],
   "source": [
    "state_dict = {'acre':'AC', 'alagoas':'AL','amapa':'AP',\n",
    "              'amazonas':'AM', 'bahia':'BA', 'ceara':'CE',\n",
    "              'distrito_federal':'DF','espirito_santo':'ES',\n",
    "              'goias':'GO', 'maranhao':'MA', 'mato_grosso':'MT',\n",
    "              'mato_grosso_do_sul':'MS', 'minas_gerais':'MG',\n",
    "              'para':'PA', 'paraiba':'PB', 'parana':'PR',\n",
    "              'pernambuco':'PE', 'piaui':'PI', 'rio_de_janeiro':'RJ',\n",
    "              'rio_grande_do_norte':'RN', 'rio_grande_do_sul':'RS',\n",
    "              'rondonia':'RO', 'roraima':'RR', 'santa_catarina':'SC',\n",
    "              'sao_paulo':'SP', 'sergipe':'SE','tocantins':'TO',\n",
    "}"
   ]
  },
  {
   "cell_type": "code",
   "execution_count": 25,
   "metadata": {},
   "outputs": [],
   "source": [
    "# for f_name in os.listdir('/home/bereoff/bruno/rocketship/censo_demografico_2010/indicadores_sociais_municipais/estados/acre'):\n",
    "#     if f_name.endswith('tab1.xls'):\n",
    "#            data = pd.read_excel('/home/bereoff/bruno/rocketship/censo_demografico_2010/indicadores_sociais_municipais/tabs/'+f_name,\n",
    "#                  skiprows=[0,1,2,3,4,5,6,7,8], header=0, usecols=\"B:H\", names=['Município','Total', 'Urbana(%)', 'Rural(%)', 'Homem(%)', 'Mulher(%)', 'Razão_de_Sexo(%)']\n",
    "#                 )"
   ]
  },
  {
   "cell_type": "code",
   "execution_count": 35,
   "metadata": {},
   "outputs": [
    {
     "name": "stdout",
     "output_type": "stream",
     "text": [
      "acre_tab2.xls\n",
      "acre_tab16.xls\n",
      "acre_tab11.xls\n",
      "acre_tab14.xls\n",
      "acre_tab13.xls\n",
      "acre_tab3.xls\n",
      "acre_tab1.xls\n",
      "acre_tab17.xls\n",
      "acre_tab5.xls\n",
      "acre_tab8.xls\n",
      "acre_tab9.xls\n",
      "acre_tab12.xls\n",
      "acre_tab7.xls\n",
      "acre_tab10.xls\n",
      "acre_tab15.xls\n",
      "acre_tab4.xls\n"
     ]
    }
   ],
   "source": [
    "for f_name in os.listdir('/home/bereoff/bruno/rocketship/censo_demografico_2010/indicadores_sociais_municipais/estados/acre'):\n",
    "    if f_name.endswith('.xls'):\n",
    "        print(f_name)\n",
    "#            data = pd.read_excel('/home/bereoff/bruno/rocketship/censo_demografico_2010/indicadores_sociais_municipais/tabs/'+f_name,\n",
    "#                  skiprows=[0,1,2,3,4,5,6,7], header=0, usecols=\"B:H\"\n",
    "#                 )"
   ]
  },
  {
   "cell_type": "code",
   "execution_count": 31,
   "metadata": {},
   "outputs": [],
   "source": [
    "# for file in os.listdir('/home/bereoff/bruno/rocketship/censo_demografico_2010/indicadores_sociais_municipais/estados/acre'):\n",
    "#     for keys in state_dict:\n",
    "#         if file"
   ]
  },
  {
   "cell_type": "code",
   "execution_count": 32,
   "metadata": {},
   "outputs": [
    {
     "data": {
      "text/html": [
       "<div>\n",
       "<style scoped>\n",
       "    .dataframe tbody tr th:only-of-type {\n",
       "        vertical-align: middle;\n",
       "    }\n",
       "\n",
       "    .dataframe tbody tr th {\n",
       "        vertical-align: top;\n",
       "    }\n",
       "\n",
       "    .dataframe thead th {\n",
       "        text-align: right;\n",
       "    }\n",
       "</style>\n",
       "<table border=\"1\" class=\"dataframe\">\n",
       "  <thead>\n",
       "    <tr style=\"text-align: right;\">\n",
       "      <th></th>\n",
       "      <th>Até 5.000</th>\n",
       "      <th>4691</th>\n",
       "      <th>40.33</th>\n",
       "      <th>59.67</th>\n",
       "      <th>51.29</th>\n",
       "      <th>48.71</th>\n",
       "      <th>105.29665366454526</th>\n",
       "    </tr>\n",
       "  </thead>\n",
       "  <tbody>\n",
       "    <tr>\n",
       "      <th>0</th>\n",
       "      <td>Santa Rosa do Purus</td>\n",
       "      <td>4691</td>\n",
       "      <td>40.33</td>\n",
       "      <td>59.67</td>\n",
       "      <td>51.29</td>\n",
       "      <td>48.71</td>\n",
       "      <td>105.296654</td>\n",
       "    </tr>\n",
       "    <tr>\n",
       "      <th>1</th>\n",
       "      <td>De 5.001 a 10.000</td>\n",
       "      <td>47075</td>\n",
       "      <td>47.15</td>\n",
       "      <td>52.85</td>\n",
       "      <td>52.63</td>\n",
       "      <td>47.37</td>\n",
       "      <td>111.104074</td>\n",
       "    </tr>\n",
       "    <tr>\n",
       "      <th>2</th>\n",
       "      <td>Assis Brasil</td>\n",
       "      <td>6072</td>\n",
       "      <td>60.94</td>\n",
       "      <td>39.06</td>\n",
       "      <td>50.91</td>\n",
       "      <td>49.09</td>\n",
       "      <td>103.707476</td>\n",
       "    </tr>\n",
       "    <tr>\n",
       "      <th>3</th>\n",
       "      <td>Bujari</td>\n",
       "      <td>8471</td>\n",
       "      <td>43.6</td>\n",
       "      <td>56.4</td>\n",
       "      <td>53.94</td>\n",
       "      <td>46.06</td>\n",
       "      <td>117.10812</td>\n",
       "    </tr>\n",
       "    <tr>\n",
       "      <th>4</th>\n",
       "      <td>Capixaba</td>\n",
       "      <td>8798</td>\n",
       "      <td>44.66</td>\n",
       "      <td>55.34</td>\n",
       "      <td>52.91</td>\n",
       "      <td>47.09</td>\n",
       "      <td>112.359312</td>\n",
       "    </tr>\n",
       "  </tbody>\n",
       "</table>\n",
       "</div>"
      ],
      "text/plain": [
       "            Até 5.000    4691  40.33  59.67  51.29  48.71 105.29665366454526\n",
       "0  Santa Rosa do Purus   4691  40.33  59.67  51.29  48.71         105.296654\n",
       "1   De 5.001 a 10.000   47075  47.15  52.85  52.63  47.37         111.104074\n",
       "2         Assis Brasil   6072  60.94  39.06  50.91  49.09         103.707476\n",
       "3               Bujari   8471   43.6   56.4  53.94  46.06          117.10812\n",
       "4             Capixaba   8798  44.66  55.34  52.91  47.09         112.359312"
      ]
     },
     "execution_count": 32,
     "metadata": {},
     "output_type": "execute_result"
    }
   ],
   "source": [
    "data.head()"
   ]
  },
  {
   "cell_type": "code",
   "execution_count": 5,
   "metadata": {},
   "outputs": [],
   "source": [
    "# data = pd.read_excel('/home/bereoff/bruno/rocketship/censo_demografico_2010/indicadores_sociais_municipais/tabs/acre_tab1.xls',\n",
    "#                      skiprows=[0,1,2,3,4,5,6], header=None, usecols=\"B:H\", names=['Município','Total', 'Urbana(%)', 'Rural(%)', 'Homem(%)', 'Mulher(%)', 'Razão_de_Sexo(%)']\n",
    "#                     )"
   ]
  },
  {
   "cell_type": "code",
   "execution_count": 6,
   "metadata": {},
   "outputs": [],
   "source": [
    "# data.head()"
   ]
  },
  {
   "cell_type": "code",
   "execution_count": null,
   "metadata": {},
   "outputs": [],
   "source": []
  }
 ],
 "metadata": {
  "kernelspec": {
   "display_name": "rocketship",
   "language": "python",
   "name": "rocketship"
  },
  "language_info": {
   "codemirror_mode": {
    "name": "ipython",
    "version": 3
   },
   "file_extension": ".py",
   "mimetype": "text/x-python",
   "name": "python",
   "nbconvert_exporter": "python",
   "pygments_lexer": "ipython3",
   "version": "3.8.6"
  }
 },
 "nbformat": 4,
 "nbformat_minor": 4
}
